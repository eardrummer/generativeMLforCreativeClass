{
 "cells": [
  {
   "cell_type": "markdown",
   "metadata": {},
   "source": [
    "# Task 4\n",
    "## Chat Bot"
   ]
  },
  {
   "cell_type": "markdown",
   "metadata": {},
   "source": [
    "Setting up the environment and helper functions"
   ]
  },
  {
   "cell_type": "code",
   "execution_count": 1,
   "metadata": {},
   "outputs": [],
   "source": [
    "#!pip install -q pytorch_transformers pytorch-ignite\n",
    "#!git clone https://github.com/huggingface/transfer-learning-conv-ai"
   ]
  },
  {
   "cell_type": "code",
   "execution_count": 1,
   "metadata": {},
   "outputs": [],
   "source": [
    "import sys,threading,subprocess,os"
   ]
  },
  {
   "cell_type": "code",
   "execution_count": 2,
   "metadata": {},
   "outputs": [],
   "source": [
    "def chatbot_proc():\n",
    "    proc = subprocess.Popen([sys.executable, \n",
    "                             os.getcwd()+'/transfer-learning-conv-ai/interact.py'\n",
    "                            ],\n",
    "                            stdout=subprocess.PIPE,\n",
    "                            stdin=subprocess.PIPE,\n",
    "                            stderr=subprocess.DEVNULL)\n",
    "    pout = proc.stdout\n",
    "    pin = proc.stdin\n",
    "    \n",
    "    return proc,pout,pin"
   ]
  },
  {
   "cell_type": "code",
   "execution_count": 3,
   "metadata": {},
   "outputs": [],
   "source": [
    "cb1_proc, cb1_pout, cb1_pin = chatbot_proc(); # create a chatbot process"
   ]
  },
  {
   "cell_type": "code",
   "execution_count": 4,
   "metadata": {},
   "outputs": [],
   "source": [
    "cb1_pin.write(b\"--temperature=1.1\\n\"), cb1_pin.flush();"
   ]
  },
  {
   "cell_type": "code",
   "execution_count": 5,
   "metadata": {},
   "outputs": [
    {
     "name": "stdout",
     "output_type": "stream",
     "text": [
      ">>> hi how are you doing today?\r\n",
      "\n"
     ]
    }
   ],
   "source": [
    "print(cb1_pout.readline().decode(sys.stdout.encoding))"
   ]
  },
  {
   "cell_type": "code",
   "execution_count": 12,
   "metadata": {},
   "outputs": [
    {
     "name": "stdout",
     "output_type": "stream",
     "text": [
      ">>> i'm good i'm doing pretty well how about you?\n",
      "\n"
     ]
    }
   ],
   "source": [
    "cb1_pin.write(b\"i'm doing mighty fine! and how are you?\\n\"), cb1_pin.flush();\n",
    "print(cb1_pout.readline().decode(sys.stdout.encoding))"
   ]
  },
  {
   "cell_type": "code",
   "execution_count": 6,
   "metadata": {},
   "outputs": [
    {
     "name": "stdout",
     "output_type": "stream",
     "text": [
      ">>> i like metal. i have a lot of stuff on my plane.\r\n",
      "\n"
     ]
    }
   ],
   "source": [
    "cb1_pin.write(b\"no way! i'm also listening to music. what music are you listening to?\\n\"), cb1_pin.flush();\n",
    "print(cb1_pout.readline().decode(sys.stdout.encoding))"
   ]
  },
  {
   "cell_type": "markdown",
   "metadata": {},
   "source": [
    "Making it talk to itself"
   ]
  },
  {
   "cell_type": "code",
   "execution_count": 7,
   "metadata": {},
   "outputs": [
    {
     "name": "stdout",
     "output_type": "stream",
     "text": [
      "B: i don't. i like to fix airplanes.\n",
      "A: but i am not always still. i'm always trying to fix airplanes.\n",
      "B: do you have any hobbies?\n",
      "A: i like to fix airplanes.\n",
      "B: do you have any hobbies?\n",
      "A: i like to fix things.\n",
      "B: i am a mechanic.\n",
      "A: do you have any hobbies?\n",
      "B: i like to fix planes.\n",
      "A: do you have any hobbies?\n"
     ]
    }
   ],
   "source": [
    "cb1_output = b\"Do you like metal?\\n\"\n",
    "partyA = True\n",
    "for _ in range(10):\n",
    "    partyA = not partyA\n",
    "    cb1_pin.write(cb1_output), cb1_pin.flush();\n",
    "    cb1_output = cb1_pout.readline()[4:]\n",
    "    print(\"%s: %s\" % ('A' if partyA else 'B',\n",
    "          cb1_output[:-1].decode(sys.stdout.encoding)))"
   ]
  },
  {
   "cell_type": "code",
   "execution_count": 17,
   "metadata": {},
   "outputs": [],
   "source": [
    "cb1_proc.kill() # kill the chatbot process"
   ]
  },
  {
   "cell_type": "markdown",
   "metadata": {},
   "source": [
    "### Task Description\n",
    "* Try some different inputs\n",
    "* Advanced: Spin up another chatbot and have them talk to one another (by feeding the outputs across)\n",
    "* Advanced: Use a different underlying model than GPT-2 for your chatbot."
   ]
  },
  {
   "cell_type": "code",
   "execution_count": 18,
   "metadata": {},
   "outputs": [],
   "source": [
    "cb1_proc, cb1_pout, cb1_pin = chatbot_proc(); # create a chatbot process"
   ]
  },
  {
   "cell_type": "code",
   "execution_count": 19,
   "metadata": {},
   "outputs": [],
   "source": [
    "cb1_pin.write(b\"--temperature=1.1\\n\"), cb1_pin.flush();"
   ]
  },
  {
   "cell_type": "code",
   "execution_count": 20,
   "metadata": {},
   "outputs": [
    {
     "name": "stdout",
     "output_type": "stream",
     "text": [
      "B: hi how are you doing today?\n",
      "A: i'm doing great. i drive junk cars that i like.\n",
      "B: i'm good. i'm just listening to some music.\n",
      "A: what do you do for work?\n",
      "B: i'm not very good at it.\n",
      "A: i fly airplanes.\n",
      "B: do you have any hobbies?\n",
      "A: do you have any hobbies?\n",
      "B: i fix cars.\n",
      "A: i like to listen to music.\n"
     ]
    }
   ],
   "source": [
    "cb1_output = b\"I hate planes.\\n\"\n",
    "partyA = True\n",
    "for _ in range(10):\n",
    "    partyA = not partyA\n",
    "    cb1_pin.write(cb1_output), cb1_pin.flush();\n",
    "    cb1_output = cb1_pout.readline()[4:]\n",
    "    print(\"%s: %s\" % ('A' if partyA else 'B',\n",
    "          cb1_output[:-1].decode(sys.stdout.encoding)))"
   ]
  },
  {
   "cell_type": "code",
   "execution_count": 29,
   "metadata": {},
   "outputs": [
    {
     "name": "stdout",
     "output_type": "stream",
     "text": [
      "B: i am so hard on my soul\n",
      "A: i think that i'm not ready to be a bird\n",
      "B: i am so hard on the soul\n",
      "A: i am so hard on my soul\n",
      "B: i need to fix the world\n",
      "A: i am so hard on the soul\n",
      "B: i can fix the world\n",
      "A: i love to fix airplanes\n",
      "B: what do you do for work?\n",
      "A: i'm in a band\n"
     ]
    }
   ],
   "source": [
    "cb1_pin.flush();\n",
    "cb1_output = b\"What is the meaning of life?\\n\"\n",
    "partyA = True\n",
    "for _ in range(10):\n",
    "    partyA = not partyA\n",
    "    cb1_pin.write(cb1_output), cb1_pin.flush();\n",
    "    cb1_output = cb1_pout.readline()[4:]\n",
    "    print(\"%s: %s\" % ('A' if partyA else 'B',\n",
    "          cb1_output[:-1].decode(sys.stdout.encoding)))"
   ]
  },
  {
   "cell_type": "markdown",
   "metadata": {},
   "source": [
    "### Chatbots talk to each other"
   ]
  },
  {
   "cell_type": "code",
   "execution_count": 22,
   "metadata": {},
   "outputs": [],
   "source": [
    "cb1_proc, cb1_pout, cb1_pin = chatbot_proc();\n",
    "cb2_proc, cb2_pout, cb2_pin = chatbot_proc(); "
   ]
  },
  {
   "cell_type": "code",
   "execution_count": 34,
   "metadata": {},
   "outputs": [],
   "source": [
    "cb2_pin.write(b\"--temperature=1.1\\n\"), cb2_pin.flush();\n",
    "cb1_pin.write(b\"--temperature=1.1\\n\"), cb1_pin.flush();"
   ]
  },
  {
   "cell_type": "code",
   "execution_count": 46,
   "metadata": {},
   "outputs": [
    {
     "name": "stdout",
     "output_type": "stream",
     "text": [
      "B: i listen to some of the best stuff i can find.\n",
      "A: i listen to some of the best music i can find.\n",
      "B: i like all types.\n",
      "A: i like all types of music.\n",
      "B: i like to fix planes.\n",
      "A: i drive a lot of junk cars.\n",
      "B: i love to fix things.\n",
      "A: i am always working, but i'm never still.\n",
      "B: i am always working.\n",
      "A: i fix planes.\n",
      "B: i like to fix old cars.\n",
      "A: i fix airplanes.\n",
      "B: i fix them all the time.\n",
      "A: i drive a junk car.\n",
      "B: it is a cheap car.\n",
      "A: but its worth it.\n",
      "B: it is not cheap, but it is better than nothing.\n",
      "A: i fix planes.\n",
      "B: it is a hobby.\n",
      "A: it is a hobby.\n"
     ]
    }
   ],
   "source": [
    "cb2_output = b\"Do you like music?\\n\"\n",
    "cbA = True\n",
    "for _ in range(20):\n",
    "    \n",
    "    cbA = not cbA\n",
    "    \n",
    "    if(cbA):\n",
    "        cb2_pin.write(cb1_output), cb2_pin.flush();\n",
    "        cb2_output = cb2_pout.readline()[4:]\n",
    "        print(\"%s: %s\" % ('A' if cbA else 'B',\n",
    "              cb2_output[:-1].decode(sys.stdout.encoding)))\n",
    "    else:\n",
    "        cb1_pin.write(cb2_output), cb1_pin.flush();\n",
    "        cb1_output = cb1_pout.readline()[4:]\n",
    "        print(\"%s: %s\" % ('A' if cbA else 'B',\n",
    "              cb1_output[:-1].decode(sys.stdout.encoding)))"
   ]
  },
  {
   "cell_type": "code",
   "execution_count": 47,
   "metadata": {},
   "outputs": [],
   "source": [
    "cb1_proc.kill() # kill the chatbot process\n",
    "cb2_proc.kill() "
   ]
  },
  {
   "cell_type": "code",
   "execution_count": 49,
   "metadata": {},
   "outputs": [
    {
     "data": {
      "text/plain": [
       "'i listen to some of the best stuff i can find.\\r'"
      ]
     },
     "execution_count": 49,
     "metadata": {},
     "output_type": "execute_result"
    }
   ],
   "source": [
    "cb1_output = b\"Do you like music?\\n\"\n",
    "cb2_pin.write(cb1_output), cb2_pin.flush();\n",
    "cb2_output = cb2_pout.readline()[4:]\n",
    "cb2_output[:-1].decode(sys.stdout.encoding)"
   ]
  },
  {
   "cell_type": "code",
   "execution_count": null,
   "metadata": {},
   "outputs": [],
   "source": [
    "cb1_pin.write(cb2_output), cb1_pin.flush();\n",
    "cb1_output=cb1_pout.readline()[4:]\n",
    "cb1_output[:-1].decode(sys.stdout.encoding)"
   ]
  },
  {
   "cell_type": "code",
   "execution_count": 23,
   "metadata": {},
   "outputs": [],
   "source": [
    "cb1_proc.kill() # kill the chatbot process\n",
    "cb2_proc.kill() "
   ]
  },
  {
   "cell_type": "markdown",
   "metadata": {},
   "source": [
    "### Trying a different model - OpenAI-GPT"
   ]
  },
  {
   "cell_type": "code",
   "execution_count": 30,
   "metadata": {},
   "outputs": [],
   "source": [
    "def chatbot_proc2():\n",
    "    proc = subprocess.Popen([sys.executable, \n",
    "                             os.getcwd()+'/transfer-learning-conv-ai/interact.py --model=openai-gpt'\n",
    "                            ],\n",
    "                            stdout=subprocess.PIPE,\n",
    "                            stdin=subprocess.PIPE,\n",
    "                            stderr=subprocess.DEVNULL)\n",
    "    pout = proc.stdout\n",
    "    pin = proc.stdin\n",
    "    \n",
    "    return proc,pout,pin"
   ]
  },
  {
   "cell_type": "code",
   "execution_count": 32,
   "metadata": {},
   "outputs": [
    {
     "name": "stdout",
     "output_type": "stream",
     "text": [
      "\n"
     ]
    }
   ],
   "source": [
    "cb1_proc, cb1_pout, cb1_pin = chatbot_proc2();\n",
    "cb1_pin.write(b\"--temperature=1.1\\n\"), cb1_pin.flush();\n",
    "cb1_pin.write(b\"--model=openai-gpt\\n\"), cb1_pin.flush();\n",
    "print(cb1_pout.readline().decode(sys.stdout.encoding))"
   ]
  },
  {
   "cell_type": "code",
   "execution_count": 34,
   "metadata": {},
   "outputs": [
    {
     "name": "stdout",
     "output_type": "stream",
     "text": [
      "\n"
     ]
    }
   ],
   "source": [
    "cb1_pin.write(b\"how are you?\\n\");\n",
    "print(cb1_pout.readline().decode(sys.stdout.encoding))"
   ]
  },
  {
   "cell_type": "code",
   "execution_count": 29,
   "metadata": {},
   "outputs": [],
   "source": [
    "cb1_proc.kill()"
   ]
  }
 ],
 "metadata": {
  "kernelspec": {
   "display_name": "Python [conda env:tf_gpu] *",
   "language": "python",
   "name": "conda-env-tf_gpu-py"
  },
  "language_info": {
   "codemirror_mode": {
    "name": "ipython",
    "version": 3
   },
   "file_extension": ".py",
   "mimetype": "text/x-python",
   "name": "python",
   "nbconvert_exporter": "python",
   "pygments_lexer": "ipython3",
   "version": "3.7.4"
  }
 },
 "nbformat": 4,
 "nbformat_minor": 2
}
